{
 "cells": [
  {
   "cell_type": "code",
   "execution_count": 1,
   "metadata": {},
   "outputs": [],
   "source": [
    "import xarray as xr\n",
    "import numpy as np"
   ]
  },
  {
   "cell_type": "code",
   "execution_count": 5,
   "metadata": {},
   "outputs": [],
   "source": [
    "def concat_winters(data1 , data2, var):\n",
    "    \"\"\" Return concatted  CFSR dataset in which;\n",
    "        1979-2010 winter dataset is concatted to the 2011-2019 winter dataset,\n",
    "        with respect to the time dimension\n",
    "        data1 : 1979-2010 winter dataset name without .nc (Given as str)\n",
    "        data2 : 2011-2019 winter dataset name without .nc (Given as str)\n",
    "        var : which variable that the dataset includes (Given as str)\n",
    "              (MSLP, 1000MBTEMP, SNWCOV, PRECIPWATER )\n",
    "    \"\"\"\n",
    "    \n",
    "    data_winter_30 = xr.open_dataset(r'C:\\Users\\Lenovo\\ML\\Elcinhoca_proje\\dataset_adjusted\\{}.nc'.format(data1))\n",
    "    data_winter_10 = xr.open_dataset(r'C:\\Users\\Lenovo\\ML\\Elcinhoca_proje\\dataset_adjusted\\{}.nc'.format(data2))\n",
    "    concatted_data = xr.concat([data_winter_30,data_winter_10], dim='time')\n",
    "    concatted_data = concatted_data.drop_sel(time = concatted_data['time'][-1].values)\n",
    "    concatted_data = concatted_data.drop_sel(time = concatted_data['time'][0].values)\n",
    "    concatted_data = concatted_data.drop_sel(time = concatted_data['time'][0].values)\n",
    "    concatted_data.to_netcdf(r'C:\\Users\\Lenovo\\ML\\Elcinhoca_proje\\dataset_adjusted\\CFSR_1979_2019_{}_winter.nc'.format(var))"
   ]
  },
  {
   "cell_type": "code",
   "execution_count": 3,
   "metadata": {},
   "outputs": [],
   "source": [
    "def concat_springs(data1 , data2, var):\n",
    "    \"\"\" Return concatted  CFSR dataset in which;\n",
    "        1979-2010 winter dataset is concatted to the 2011-2019 spring dataset,\n",
    "        with respect to the time dimension\n",
    "        data1 : 1979-2010 spring dataset name without .nc (Given as str)\n",
    "        data2 : 2011-2019 spring dataset name without .nc (Given as str)\n",
    "        var : which variable that the dataset includes (Given as str)\n",
    "              (MSLP, 1000MBTEMP, SNWCOV, PRECIPWATER )\n",
    "    \"\"\"\n",
    "    \n",
    "    data_spring_30 = xr.open_dataset(r'C:\\Users\\Lenovo\\ML\\Elcinhoca_proje\\dataset_adjusted\\{}.nc'.format(data1))\n",
    "    data_spring_10 = xr.open_dataset(r'C:\\Users\\Lenovo\\ML\\Elcinhoca_proje\\dataset_adjusted\\{}.nc'.format(data2))\n",
    "    concatted_data = xr.concat([data_spring_30,data_spring_10], dim='time')\n",
    "    concatted_data.to_netcdf(r'C:\\Users\\Lenovo\\ML\\Elcinhoca_proje\\dataset_adjusted\\CFSR_1979_2019_{}_spring.nc'.format(var))"
   ]
  },
  {
   "cell_type": "code",
   "execution_count": 6,
   "metadata": {},
   "outputs": [
    {
     "name": "stderr",
     "output_type": "stream",
     "text": [
      "C:\\Users\\Lenovo\\Anaconda2020\\lib\\site-packages\\xarray\\conventions.py:425: UserWarning: Variable 'time' has datetime type and a bounds variable but time.encoding does not have units specified. The units encodings for 'time' and 'time_bnds' will be determined independently and may not be equal, counter to CF-conventions. If this is a concern, specify a units encoding for 'time' before writing to a file.\n",
      "  UserWarning,\n",
      "C:\\Users\\Lenovo\\Anaconda2020\\lib\\site-packages\\xarray\\conventions.py:425: UserWarning: Variable 'time' has datetime type and a bounds variable but time.encoding does not have units specified. The units encodings for 'time' and 'time_bnds' will be determined independently and may not be equal, counter to CF-conventions. If this is a concern, specify a units encoding for 'time' before writing to a file.\n",
      "  UserWarning,\n",
      "C:\\Users\\Lenovo\\Anaconda2020\\lib\\site-packages\\xarray\\conventions.py:425: UserWarning: Variable 'time' has datetime type and a bounds variable but time.encoding does not have units specified. The units encodings for 'time' and 'time_bnds' will be determined independently and may not be equal, counter to CF-conventions. If this is a concern, specify a units encoding for 'time' before writing to a file.\n",
      "  UserWarning,\n",
      "C:\\Users\\Lenovo\\Anaconda2020\\lib\\site-packages\\xarray\\conventions.py:425: UserWarning: Variable 'time' has datetime type and a bounds variable but time.encoding does not have units specified. The units encodings for 'time' and 'time_bnds' will be determined independently and may not be equal, counter to CF-conventions. If this is a concern, specify a units encoding for 'time' before writing to a file.\n",
      "  UserWarning,\n"
     ]
    }
   ],
   "source": [
    "concat_winters(data1 = 'CFSR_MSL_Pressure_NORTH', data2 =  '2011_2020_CFSR_MSLP_WINTER_MSLP', var='MSLP' )\n",
    "concat_winters(data1 = 'CFSR_1000MB_TEMP_NORTH_WINTER', data2 =  '2011_2020_CFSR_1000MBTEMP_WINTER', var='1000MBTEMP')\n",
    "concat_springs(data1 = 'CFSR_MSL_Pressure_NORTH_SPRING', data2 =  '2011_2020_CFSR_MSLP_SPRING_MSLP', var='MSLP')\n",
    "concat_springs(data1 = 'CFSR_1000MB_TEMP_NORTH_SPRING', data2 =  '2011_2020_CFSR_1000MBTEMP_SPRING', var='1000MBTEMP')"
   ]
  },
  {
   "cell_type": "code",
   "execution_count": null,
   "metadata": {},
   "outputs": [],
   "source": []
  },
  {
   "cell_type": "code",
   "execution_count": null,
   "metadata": {},
   "outputs": [],
   "source": []
  }
 ],
 "metadata": {
  "kernelspec": {
   "display_name": "Python 3",
   "language": "python",
   "name": "python3"
  },
  "language_info": {
   "codemirror_mode": {
    "name": "ipython",
    "version": 3
   },
   "file_extension": ".py",
   "mimetype": "text/x-python",
   "name": "python",
   "nbconvert_exporter": "python",
   "pygments_lexer": "ipython3",
   "version": "3.7.4"
  }
 },
 "nbformat": 4,
 "nbformat_minor": 4
}
