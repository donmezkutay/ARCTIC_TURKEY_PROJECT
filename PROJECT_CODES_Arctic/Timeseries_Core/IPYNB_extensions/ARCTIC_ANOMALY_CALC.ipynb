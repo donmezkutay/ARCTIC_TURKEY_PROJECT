{
 "cells": [
  {
   "cell_type": "code",
   "execution_count": 1,
   "metadata": {},
   "outputs": [],
   "source": [
    "import numpy as np\n",
    "import xarray as xr\n",
    "import netCDF4\n",
    "import pandas as pd"
   ]
  },
  {
   "cell_type": "code",
   "execution_count": 4,
   "metadata": {},
   "outputs": [],
   "source": [
    "def arctic_autumnal_anomaly():\n",
    "    \"\"\" Returns Autumnal Arctic Sea Ice Anomaly time series between 1979-2019\n",
    "        With respect to the 30 years average value(1979-2009)\n",
    "        \n",
    "    \"\"\"\n",
    "    # Get the Data\n",
    "    data_sea_ice = pd.read_csv(r'C:\\Users\\Lenovo\\ML\\Elcinhoca_proje\\dataset_adjusted\\Sea_ice_extent_area_refined.csv')\n",
    "    data_sea_ice.set_index('year', inplace=True)\n",
    "    \n",
    "    # Create masks that corresponds to the months of September, October, November between 1979-2010(2010 is not included!)\n",
    "    mask_september_foranomaly = data_sea_ice[data_sea_ice['month']==9].index.isin(np.arange(1979,2010))\n",
    "    mask_october_foranomaly = data_sea_ice[data_sea_ice['month']==10].index.isin(np.arange(1979,2010))\n",
    "    mask_november_foranomaly = data_sea_ice[data_sea_ice['month']==11].index.isin(np.arange(1979,2010))\n",
    "    \n",
    "    # Pulling Autumn Months from the Dataset for anomaly  calculation using masks\n",
    "    september_foranomaly = data_sea_ice[data_sea_ice['month']==9][mask_september_foranomaly]['area'].values # 30 year values\n",
    "    october_foranomaly = data_sea_ice[data_sea_ice['month']==10][mask_october_foranomaly]['area'].values # 30 year values\n",
    "    november_foranomaly = data_sea_ice[data_sea_ice['month']==11][mask_november_foranomaly]['area'].values # 30 year values\n",
    "\n",
    "    september = data_sea_ice[data_sea_ice['month']==9]['area'][:-1].values # 40 year values \n",
    "    october = data_sea_ice[data_sea_ice['month']==10]['area'][:-1].values # 40 year values\n",
    "    november = data_sea_ice[data_sea_ice['month']==11]['area'][:-1].values # 40 year values\n",
    "\n",
    "    #Get the Averages for the usage of anomaly\n",
    "    average_yearly_foranomaly = (september_foranomaly+october_foranomaly+november_foranomaly)/3 # average time series for 30yr\n",
    "    average_yearly = (september+october+november)/3 # time series of yearly average values for 40 yr for the use of anomalies\n",
    "    average_foranomaly = np.mean(average_yearly_foranomaly) #30 year average for the use of anomaly [1979,2010](2010 is not included)\n",
    "    sea_ice_anomalies = average_yearly - average_foranomaly # anomaly values\n",
    "    \n",
    "    return sea_ice_anomalies"
   ]
  },
  {
   "cell_type": "code",
   "execution_count": null,
   "metadata": {},
   "outputs": [],
   "source": []
  },
  {
   "cell_type": "code",
   "execution_count": null,
   "metadata": {},
   "outputs": [],
   "source": []
  }
 ],
 "metadata": {
  "kernelspec": {
   "display_name": "Python 3",
   "language": "python",
   "name": "python3"
  },
  "language_info": {
   "codemirror_mode": {
    "name": "ipython",
    "version": 3
   },
   "file_extension": ".py",
   "mimetype": "text/x-python",
   "name": "python",
   "nbconvert_exporter": "python",
   "pygments_lexer": "ipython3",
   "version": "3.7.4"
  }
 },
 "nbformat": 4,
 "nbformat_minor": 4
}
